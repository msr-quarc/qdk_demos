{
 "metadata": {
  "language_info": {
   "codemirror_mode": {
    "name": "ipython",
    "version": 3
   },
   "file_extension": ".py",
   "mimetype": "text/x-python",
   "name": "python",
   "nbconvert_exporter": "python",
   "pygments_lexer": "ipython3",
   "version": "3.7.9-final"
  },
  "orig_nbformat": 2,
  "kernelspec": {
   "name": "python_defaultSpec_1600317529023",
   "display_name": "Python 3.7.8 64-bit"
  }
 },
 "nbformat": 4,
 "nbformat_minor": 2,
 "cells": [
  {
   "cell_type": "markdown",
   "metadata": {},
   "source": [
    "# Quantum Chemistry: Robust Phase Estimation\n",
    "## Simulate the dissociation curve (energy vs. bond length) for a $H_2$ molecule"
   ]
  },
  {
   "cell_type": "code",
   "execution_count": 1,
   "metadata": {
    "tags": []
   },
   "outputs": [],
   "source": [
    "import qsharp"
   ]
  },
  {
   "cell_type": "code",
   "execution_count": 2,
   "metadata": {},
   "outputs": [
    {
     "output_type": "display_data",
     "data": {
      "text/plain": "Reloading workspace.",
      "application/json": "{\"LastUpdated\":\"2020-09-17T18:22:32.7274272+00:00\",\"IsCompleted\":false,\"Description\":\"Reloading workspace\",\"Subtask\":null}"
     },
     "metadata": {}
    }
   ],
   "source": [
    "qsharp.reload()"
   ]
  },
  {
   "cell_type": "code",
   "execution_count": 3,
   "metadata": {
    "tags": []
   },
   "outputs": [
    {
     "output_type": "display_data",
     "data": {
      "text/plain": "Adding package microsoft.quantum.chemistry.jupyter.",
      "application/json": "{\"LastUpdated\":\"2020-09-17T18:22:42.0822603+00:00\",\"IsCompleted\":false,\"Description\":\"Adding package microsoft.quantum.chemistry.jupyter\",\"Subtask\":null}"
     },
     "metadata": {}
    }
   ],
   "source": [
    "from qsharp.chemistry import load_broombridge, load_fermion_hamiltonian, load_input_state, encode"
   ]
  },
  {
   "cell_type": "markdown",
   "metadata": {},
   "source": [
    "## 1. Load computed $H_2$  from file\n",
    "To generate:\n",
    "\n",
    "1. Go to: https://arrows.emsl.pnnl.gov/api/qsharp_chem\n",
    "\n",
    "2. Enter `HH theory{qsharp_chem}`\n",
    "\n",
    "3. Under Datafiles, click \"download\""
   ]
  },
  {
   "cell_type": "code",
   "execution_count": 4,
   "metadata": {
    "tags": []
   },
   "outputs": [],
   "source": [
    "import qsharp\n",
    "from qsharp.chemistry import load_broombridge, load_fermion_hamiltonian, load_input_state, encode\n",
    "\n",
    "filename = 'data/hydrogen_0.2.yaml'\n",
    "broombridge_data =  load_broombridge(filename)\n",
    "problem_description = broombridge_data.problem_description[0]\n",
    "ferm_hamiltonian = problem_description.load_fermion_hamiltonian()\n",
    "input_state = load_input_state(filename, \"UCCSD |G>\")\n",
    "num_qubits, hamiltonian_term_list, input_state_terms, energy_offset = encode(ferm_hamiltonian, input_state)"
   ]
  },
  {
   "source": [
    "### Hamiltonian terms\n",
    "## $H = \\sum_{pq}{h_{pq}} a_p^{\\dagger}a_q^{\\dagger} + \\frac{1}{2} \\sum_{pqrs}{h_{pqrs}} a_p^{\\dagger}a_q^{\\dagger}a_{r}a_{s}$"
   ],
   "cell_type": "markdown",
   "metadata": {}
  },
  {
   "cell_type": "code",
   "execution_count": 5,
   "metadata": {
    "tags": []
   },
   "outputs": [
    {
     "output_type": "stream",
     "name": "stdout",
     "text": "([([0], [0.17120128499999998]),\n  ([1], [0.17120128499999998]),\n  ([2], [-0.222796536]),\n  ([3], [-0.222796536])],\n [([0, 1], [0.1686232915]),\n  ([0, 2], [0.12054614575]),\n  ([0, 3], [0.16586802525]),\n  ([1, 2], [0.16586802525]),\n  ([1, 3], [0.12054614575]),\n  ([2, 3], [0.1743495025])],\n [],\n [([0, 1, 2, 3], [0.0, -0.0453218795, 0.0, 0.0453218795])])\n"
    }
   ],
   "source": [
    "import pprint as pp\n",
    "pp.pprint(hamiltonian_term_list)"
   ]
  },
  {
   "source": [
    "### Input trial state terms\n",
    "## $T(\\vec{\\theta}) = \\sum_{ij} \\theta_{ij} a_{i}^{\\dagger} a_{j} + \\theta_{ijkl} a_{i}^{\\dagger} a_{j}^{\\dagger} a_{k} a_{l}$"
   ],
   "cell_type": "markdown",
   "metadata": {}
  },
  {
   "cell_type": "code",
   "execution_count": 6,
   "metadata": {
    "tags": []
   },
   "outputs": [
    {
     "output_type": "stream",
     "name": "stdout",
     "text": "(3,\n [((0.001, 0.0), [2, 0]),\n  ((-0.001, 0.0), [3, 1]),\n  ((0.113, 0.0), [2, 3, 1, 0]),\n  ((1.0, 0.0), [0, 1])])\n"
    }
   ],
   "source": [
    "pp.pprint(input_state_terms)"
   ]
  },
  {
   "source": [
    "## 2. Import Q# library operation\n",
    "We can import the wrapper for any Q# operation of our project directly into our Python namespace."
   ],
   "cell_type": "markdown",
   "metadata": {}
  },
  {
   "cell_type": "code",
   "execution_count": 7,
   "metadata": {},
   "outputs": [],
   "source": [
    "from Test.Hydrogen import GetEnergyByTrotterization"
   ]
  },
  {
   "cell_type": "code",
   "execution_count": 8,
   "metadata": {},
   "outputs": [
    {
     "output_type": "execute_result",
     "data": {
      "text/plain": "<Q# callable Test.Hydrogen.GetEnergyByTrotterization>"
     },
     "metadata": {},
     "execution_count": 8
    }
   ],
   "source": [
    "GetEnergyByTrotterization"
   ]
  },
  {
   "source": [
    "## 3. Quantum simulation\n",
    "\n",
    "### Resource estimation\n",
    "\n",
    "Estimate quantum resources required to run this algorithm."
   ],
   "cell_type": "markdown",
   "metadata": {}
  },
  {
   "cell_type": "code",
   "execution_count": 9,
   "metadata": {
    "tags": []
   },
   "outputs": [
    {
     "output_type": "execute_result",
     "data": {
      "text/plain": "{'CNOT': 99648,\n 'QubitClifford': 50186,\n 'R': 43736,\n 'Measure': 317,\n 'T': 0,\n 'Depth': 0,\n 'Width': 5,\n 'BorrowedWidth': 0}"
     },
     "metadata": {},
     "execution_count": 9
    }
   ],
   "source": [
    "GetEnergyByTrotterization.estimate_resources(JWEncodedData=(num_qubits, hamiltonian_term_list, input_state_terms, energy_offset), nBitsPrecision=7, trotterStepSize=0.4, trotterOrder=1)"
   ]
  },
  {
   "source": [
    "### General simulation\n",
    "Simulate the operation using `.simulate()`."
   ],
   "cell_type": "markdown",
   "metadata": {}
  },
  {
   "cell_type": "code",
   "execution_count": 10,
   "metadata": {
    "tags": []
   },
   "outputs": [
    {
     "output_type": "stream",
     "name": "stdout",
     "text": "Phase: -0.4099982804142568, Energy: -1.1238301470356422\n"
    }
   ],
   "source": [
    "phase, energy = GetEnergyByTrotterization.simulate(JWEncodedData=(num_qubits, hamiltonian_term_list, input_state_terms, energy_offset), nBitsPrecision=7, trotterStepSize=0.4, trotterOrder=1)\n",
    "\n",
    "print(f\"Phase: {phase}, Energy: {energy}\")"
   ]
  },
  {
   "cell_type": "code",
   "execution_count": 11,
   "metadata": {
    "tags": []
   },
   "outputs": [
    {
     "output_type": "stream",
     "name": "stdout",
     "text": "Difference with exact FCI value:  0.013440275056797901\n"
    }
   ],
   "source": [
    "# Print difference with exact FCI value known for this bond length\n",
    "fci_value = -1.1372704220924401\n",
    "print(\"Difference with exact FCI value: \", abs(energy - fci_value))"
   ]
  },
  {
   "cell_type": "markdown",
   "metadata": {},
   "source": [
    "## 4. Calculate one and two-electron integrals using PySCF for a given bond length\n",
    "\n",
    "To specify the Hamiltonian of our electronic structure problem, we need to compute the coefficients by the one and two-electron integrals. These are relatively easy and fast to calculate. The difficult part is evaluating the ground state energy, which is the part we'll evaluate on a quantum computer."
   ]
  },
  {
   "cell_type": "code",
   "execution_count": 12,
   "metadata": {},
   "outputs": [],
   "source": [
    "from problem_description import create_H2_molecule, compute_integrals, updated_problem_description\n",
    "from pyscf import scf, fci"
   ]
  },
  {
   "cell_type": "code",
   "execution_count": 13,
   "metadata": {
    "tags": []
   },
   "outputs": [
    {
     "output_type": "stream",
     "name": "stdout",
     "text": "converged SCF energy = -1.10067441313401\n"
    },
    {
     "output_type": "execute_result",
     "data": {
      "text/plain": "([([1, 1], -1.184281), ([2, 2], -0.538244)],\n [([1, 1, 1, 1], 0.652123),\n  ([1, 2, 2, 1], 0.188121),\n  ([1, 1, 2, 2], 0.643609),\n  ([2, 2, 2, 2], 0.676401)],\n 0.6157648096008939)"
     },
     "metadata": {},
     "execution_count": 13
    }
   ],
   "source": [
    "# First, create a molecule with a given bond length.\n",
    "molecule = create_H2_molecule(bond_length=1.624/1.88973)\n",
    "# Calculate using \n",
    "RHF = scf.RHF(molecule)\n",
    "RHF.scf()\n",
    "energy_nuc = RHF.energy_nuc()\n",
    "one_el, two_el = compute_integrals(problem_description, molecule, RHF)\n",
    "one_el, two_el, energy_nuc"
   ]
  },
  {
   "source": [
    "### Get FCI energy for direct comparison with RPE\n",
    "\n",
    "When you are doing RPE, you are getting FCI energy, which is the exact solution of the Schrodinger equation in a finite basis. (Hartree-Fock is the mean-field approximation solution). PySCF also lets us calculate the FCI energy."
   ],
   "cell_type": "markdown",
   "metadata": {}
  },
  {
   "cell_type": "code",
   "execution_count": 14,
   "metadata": {
    "tags": []
   },
   "outputs": [
    {
     "output_type": "stream",
     "name": "stdout",
     "text": "E(FCI) = -1.127031225401\n"
    }
   ],
   "source": [
    "cisolver = fci.FCI(RHF)\n",
    "fci_energy = cisolver.kernel()[0]\n",
    "print('E(FCI) = %.12f' % fci_energy)"
   ]
  },
  {
   "source": [
    "### Use this as input to the Q# algorithm and simulate"
   ],
   "cell_type": "markdown",
   "metadata": {}
  },
  {
   "cell_type": "code",
   "execution_count": 15,
   "metadata": {
    "tags": []
   },
   "outputs": [
    {
     "output_type": "stream",
     "name": "stdout",
     "text": "Phase: -0.35588354278946877, Energy: -1.114789547372778\n"
    }
   ],
   "source": [
    "new_pd = updated_problem_description(filename, one_el, two_el, energy_nuc)\n",
    "ferm_hamiltonian = new_pd.load_fermion_hamiltonian()\n",
    "jw_encoded_data = encode(ferm_hamiltonian, input_state)\n",
    "phase, energy = GetEnergyByTrotterization.simulate(JWEncodedData=jw_encoded_data, nBitsPrecision=7, trotterStepSize=0.4, trotterOrder=1)\n",
    "\n",
    "print(f\"Phase: {phase}, Energy: {energy}\")"
   ]
  },
  {
   "cell_type": "markdown",
   "metadata": {},
   "source": [
    "## 5. Run Robust Phase Estimation for varying bond length\n",
    "\n",
    "Now, we will take everything we've done and run it in a for-loop to calculate the energy for a list of bond lengths. "
   ]
  },
  {
   "cell_type": "code",
   "execution_count": 16,
   "metadata": {},
   "outputs": [],
   "source": [
    "import numpy as np\n",
    "from trotterization import robust_phase_estimation"
   ]
  },
  {
   "cell_type": "code",
   "execution_count": 19,
   "metadata": {
    "tags": []
   },
   "outputs": [
    {
     "output_type": "stream",
     "name": "stdout",
     "text": "converged SCF energy = -0.904361394163539\nconverged SCF energy = -1.04299627454009\nconverged SCF energy = -1.1011282422677\nconverged SCF energy = -1.11734903499028\nconverged SCF energy = -1.11085039747659\nconverged SCF energy = -1.09191404102006\nconverged SCF energy = -1.06610864931794\nconverged SCF energy = -1.03653887502918\nconverged SCF energy = -1.00510670656849\nconverged SCF energy = -0.973110615777578\nconverged SCF energy = -0.941480654707798\nconverged SCF energy = -0.910873554594386\nconverged SCF energy = -0.881732449946057\n"
    }
   ],
   "source": [
    "energy = []\n",
    "calculated_energy = []\n",
    "all_results = []\n",
    "bond_lengths = np.arange(0.4,1.7,0.1)\n",
    "filename = \"data/hydrogen_0.2.yaml\"\n",
    "num_iterations = 3\n",
    "broombridge_data = load_broombridge(filename)\n",
    "input_state = load_input_state(filename, \"UCCSD |G>\")\n",
    "problem_description = broombridge_data.problem_description[0]\n",
    "\n",
    "for bond_length in bond_lengths:\n",
    "    molecule = create_H2_molecule(bond_length=bond_length)\n",
    "    RHF = scf.RHF(molecule)\n",
    "    RHF.scf()\n",
    "    cisolver = fci.FCI(RHF)\n",
    "    fci_energy = cisolver.kernel()[0]\n",
    "    energy_nuc = RHF.energy_nuc()\n",
    "    one_el, two_el = compute_integrals(problem_description, molecule, RHF)\n",
    "    new_pd = updated_problem_description(filename, one_el, two_el, energy_nuc)\n",
    "    ferm_hamiltonian = new_pd.load_fermion_hamiltonian()\n",
    "    jw_encoded_data = encode(ferm_hamiltonian, input_state)\n",
    "\n",
    "    results = [robust_phase_estimation(*jw_encoded_data) for _ in range(num_iterations)]\n",
    "    all_results.append(results)\n",
    "    _energy = min(results)\n",
    "    energy.append(_energy)\n",
    "    calculated_energy.append(fci_energy)"
   ]
  },
  {
   "cell_type": "code",
   "execution_count": 20,
   "metadata": {},
   "outputs": [
    {
     "output_type": "execute_result",
     "data": {
      "text/plain": "Text(0, 0.5, 'Energy (Ha)')"
     },
     "metadata": {},
     "execution_count": 20
    },
    {
     "output_type": "display_data",
     "data": {
      "text/plain": "<Figure size 432x288 with 1 Axes>",
      "image/svg+xml": "<?xml version=\"1.0\" encoding=\"utf-8\" standalone=\"no\"?>\n<!DOCTYPE svg PUBLIC \"-//W3C//DTD SVG 1.1//EN\"\n  \"http://www.w3.org/Graphics/SVG/1.1/DTD/svg11.dtd\">\n<!-- Created with matplotlib (https://matplotlib.org/) -->\n<svg height=\"269.620937pt\" version=\"1.1\" viewBox=\"0 0 408.023594 269.620937\" width=\"408.023594pt\" xmlns=\"http://www.w3.org/2000/svg\" xmlns:xlink=\"http://www.w3.org/1999/xlink\">\n <metadata>\n  <rdf:RDF xmlns:cc=\"http://creativecommons.org/ns#\" xmlns:dc=\"http://purl.org/dc/elements/1.1/\" xmlns:rdf=\"http://www.w3.org/1999/02/22-rdf-syntax-ns#\">\n   <cc:Work>\n    <dc:type rdf:resource=\"http://purl.org/dc/dcmitype/StillImage\"/>\n    <dc:date>2020-09-17T18:38:29.546256</dc:date>\n    <dc:format>image/svg+xml</dc:format>\n    <dc:creator>\n     <cc:Agent>\n      <dc:title>Matplotlib v3.3.2, https://matplotlib.org/</dc:title>\n     </cc:Agent>\n    </dc:creator>\n   </cc:Work>\n  </rdf:RDF>\n </metadata>\n <defs>\n  <style type=\"text/css\">*{stroke-linecap:butt;stroke-linejoin:round;}</style>\n </defs>\n <g id=\"figure_1\">\n  <g id=\"patch_1\">\n   <path d=\"M 0 269.620937 \nL 408.023594 269.620937 \nL 408.023594 0 \nL 0 0 \nz\n\" style=\"fill:#ffffff;\"/>\n  </g>\n  <g id=\"axes_1\">\n   <g id=\"patch_2\">\n    <path d=\"M 66.023594 224.64 \nL 400.823594 224.64 \nL 400.823594 7.2 \nL 66.023594 7.2 \nz\n\" style=\"fill:#eaeaf2;\"/>\n   </g>\n   <g id=\"matplotlib.axis_1\">\n    <g id=\"xtick_1\">\n     <g id=\"line2d_1\">\n      <path clip-path=\"url(#p5c3be01192)\" d=\"M 81.241776 224.64 \nL 81.241776 7.2 \n\" style=\"fill:none;stroke:#ffffff;stroke-linecap:round;\"/>\n     </g>\n     <g id=\"text_1\">\n      <!-- 0.4 -->\n      <g style=\"fill:#262626;\" transform=\"translate(72.495057 242.498281)scale(0.11 -0.11)\">\n       <defs>\n        <path d=\"M 31.78125 66.40625 \nQ 24.171875 66.40625 20.328125 58.90625 \nQ 16.5 51.421875 16.5 36.375 \nQ 16.5 21.390625 20.328125 13.890625 \nQ 24.171875 6.390625 31.78125 6.390625 \nQ 39.453125 6.390625 43.28125 13.890625 \nQ 47.125 21.390625 47.125 36.375 \nQ 47.125 51.421875 43.28125 58.90625 \nQ 39.453125 66.40625 31.78125 66.40625 \nz\nM 31.78125 74.21875 \nQ 44.046875 74.21875 50.515625 64.515625 \nQ 56.984375 54.828125 56.984375 36.375 \nQ 56.984375 17.96875 50.515625 8.265625 \nQ 44.046875 -1.421875 31.78125 -1.421875 \nQ 19.53125 -1.421875 13.0625 8.265625 \nQ 6.59375 17.96875 6.59375 36.375 \nQ 6.59375 54.828125 13.0625 64.515625 \nQ 19.53125 74.21875 31.78125 74.21875 \nz\n\" id=\"DejaVuSans-48\"/>\n        <path d=\"M 10.6875 12.40625 \nL 21 12.40625 \nL 21 0 \nL 10.6875 0 \nz\n\" id=\"DejaVuSans-46\"/>\n        <path d=\"M 37.796875 64.3125 \nL 12.890625 25.390625 \nL 37.796875 25.390625 \nz\nM 35.203125 72.90625 \nL 47.609375 72.90625 \nL 47.609375 25.390625 \nL 58.015625 25.390625 \nL 58.015625 17.1875 \nL 47.609375 17.1875 \nL 47.609375 0 \nL 37.796875 0 \nL 37.796875 17.1875 \nL 4.890625 17.1875 \nL 4.890625 26.703125 \nz\n\" id=\"DejaVuSans-52\"/>\n       </defs>\n       <use xlink:href=\"#DejaVuSans-48\"/>\n       <use x=\"63.623047\" xlink:href=\"#DejaVuSans-46\"/>\n       <use x=\"95.410156\" xlink:href=\"#DejaVuSans-52\"/>\n      </g>\n     </g>\n    </g>\n    <g id=\"xtick_2\">\n     <g id=\"line2d_2\">\n      <path clip-path=\"url(#p5c3be01192)\" d=\"M 131.969048 224.64 \nL 131.969048 7.2 \n\" style=\"fill:none;stroke:#ffffff;stroke-linecap:round;\"/>\n     </g>\n     <g id=\"text_2\">\n      <!-- 0.6 -->\n      <g style=\"fill:#262626;\" transform=\"translate(123.22233 242.498281)scale(0.11 -0.11)\">\n       <defs>\n        <path d=\"M 33.015625 40.375 \nQ 26.375 40.375 22.484375 35.828125 \nQ 18.609375 31.296875 18.609375 23.390625 \nQ 18.609375 15.53125 22.484375 10.953125 \nQ 26.375 6.390625 33.015625 6.390625 \nQ 39.65625 6.390625 43.53125 10.953125 \nQ 47.40625 15.53125 47.40625 23.390625 \nQ 47.40625 31.296875 43.53125 35.828125 \nQ 39.65625 40.375 33.015625 40.375 \nz\nM 52.59375 71.296875 \nL 52.59375 62.3125 \nQ 48.875 64.0625 45.09375 64.984375 \nQ 41.3125 65.921875 37.59375 65.921875 \nQ 27.828125 65.921875 22.671875 59.328125 \nQ 17.53125 52.734375 16.796875 39.40625 \nQ 19.671875 43.65625 24.015625 45.921875 \nQ 28.375 48.1875 33.59375 48.1875 \nQ 44.578125 48.1875 50.953125 41.515625 \nQ 57.328125 34.859375 57.328125 23.390625 \nQ 57.328125 12.15625 50.6875 5.359375 \nQ 44.046875 -1.421875 33.015625 -1.421875 \nQ 20.359375 -1.421875 13.671875 8.265625 \nQ 6.984375 17.96875 6.984375 36.375 \nQ 6.984375 53.65625 15.1875 63.9375 \nQ 23.390625 74.21875 37.203125 74.21875 \nQ 40.921875 74.21875 44.703125 73.484375 \nQ 48.484375 72.75 52.59375 71.296875 \nz\n\" id=\"DejaVuSans-54\"/>\n       </defs>\n       <use xlink:href=\"#DejaVuSans-48\"/>\n       <use x=\"63.623047\" xlink:href=\"#DejaVuSans-46\"/>\n       <use x=\"95.410156\" xlink:href=\"#DejaVuSans-54\"/>\n      </g>\n     </g>\n    </g>\n    <g id=\"xtick_3\">\n     <g id=\"line2d_3\">\n      <path clip-path=\"url(#p5c3be01192)\" d=\"M 182.696321 224.64 \nL 182.696321 7.2 \n\" style=\"fill:none;stroke:#ffffff;stroke-linecap:round;\"/>\n     </g>\n     <g id=\"text_3\">\n      <!-- 0.8 -->\n      <g style=\"fill:#262626;\" transform=\"translate(173.949602 242.498281)scale(0.11 -0.11)\">\n       <defs>\n        <path d=\"M 31.78125 34.625 \nQ 24.75 34.625 20.71875 30.859375 \nQ 16.703125 27.09375 16.703125 20.515625 \nQ 16.703125 13.921875 20.71875 10.15625 \nQ 24.75 6.390625 31.78125 6.390625 \nQ 38.8125 6.390625 42.859375 10.171875 \nQ 46.921875 13.96875 46.921875 20.515625 \nQ 46.921875 27.09375 42.890625 30.859375 \nQ 38.875 34.625 31.78125 34.625 \nz\nM 21.921875 38.8125 \nQ 15.578125 40.375 12.03125 44.71875 \nQ 8.5 49.078125 8.5 55.328125 \nQ 8.5 64.0625 14.71875 69.140625 \nQ 20.953125 74.21875 31.78125 74.21875 \nQ 42.671875 74.21875 48.875 69.140625 \nQ 55.078125 64.0625 55.078125 55.328125 \nQ 55.078125 49.078125 51.53125 44.71875 \nQ 48 40.375 41.703125 38.8125 \nQ 48.828125 37.15625 52.796875 32.3125 \nQ 56.78125 27.484375 56.78125 20.515625 \nQ 56.78125 9.90625 50.3125 4.234375 \nQ 43.84375 -1.421875 31.78125 -1.421875 \nQ 19.734375 -1.421875 13.25 4.234375 \nQ 6.78125 9.90625 6.78125 20.515625 \nQ 6.78125 27.484375 10.78125 32.3125 \nQ 14.796875 37.15625 21.921875 38.8125 \nz\nM 18.3125 54.390625 \nQ 18.3125 48.734375 21.84375 45.5625 \nQ 25.390625 42.390625 31.78125 42.390625 \nQ 38.140625 42.390625 41.71875 45.5625 \nQ 45.3125 48.734375 45.3125 54.390625 \nQ 45.3125 60.0625 41.71875 63.234375 \nQ 38.140625 66.40625 31.78125 66.40625 \nQ 25.390625 66.40625 21.84375 63.234375 \nQ 18.3125 60.0625 18.3125 54.390625 \nz\n\" id=\"DejaVuSans-56\"/>\n       </defs>\n       <use xlink:href=\"#DejaVuSans-48\"/>\n       <use x=\"63.623047\" xlink:href=\"#DejaVuSans-46\"/>\n       <use x=\"95.410156\" xlink:href=\"#DejaVuSans-56\"/>\n      </g>\n     </g>\n    </g>\n    <g id=\"xtick_4\">\n     <g id=\"line2d_4\">\n      <path clip-path=\"url(#p5c3be01192)\" d=\"M 233.423594 224.64 \nL 233.423594 7.2 \n\" style=\"fill:none;stroke:#ffffff;stroke-linecap:round;\"/>\n     </g>\n     <g id=\"text_4\">\n      <!-- 1.0 -->\n      <g style=\"fill:#262626;\" transform=\"translate(224.676875 242.498281)scale(0.11 -0.11)\">\n       <defs>\n        <path d=\"M 12.40625 8.296875 \nL 28.515625 8.296875 \nL 28.515625 63.921875 \nL 10.984375 60.40625 \nL 10.984375 69.390625 \nL 28.421875 72.90625 \nL 38.28125 72.90625 \nL 38.28125 8.296875 \nL 54.390625 8.296875 \nL 54.390625 0 \nL 12.40625 0 \nz\n\" id=\"DejaVuSans-49\"/>\n       </defs>\n       <use xlink:href=\"#DejaVuSans-49\"/>\n       <use x=\"63.623047\" xlink:href=\"#DejaVuSans-46\"/>\n       <use x=\"95.410156\" xlink:href=\"#DejaVuSans-48\"/>\n      </g>\n     </g>\n    </g>\n    <g id=\"xtick_5\">\n     <g id=\"line2d_5\">\n      <path clip-path=\"url(#p5c3be01192)\" d=\"M 284.150866 224.64 \nL 284.150866 7.2 \n\" style=\"fill:none;stroke:#ffffff;stroke-linecap:round;\"/>\n     </g>\n     <g id=\"text_5\">\n      <!-- 1.2 -->\n      <g style=\"fill:#262626;\" transform=\"translate(275.404148 242.498281)scale(0.11 -0.11)\">\n       <defs>\n        <path d=\"M 19.1875 8.296875 \nL 53.609375 8.296875 \nL 53.609375 0 \nL 7.328125 0 \nL 7.328125 8.296875 \nQ 12.9375 14.109375 22.625 23.890625 \nQ 32.328125 33.6875 34.8125 36.53125 \nQ 39.546875 41.84375 41.421875 45.53125 \nQ 43.3125 49.21875 43.3125 52.78125 \nQ 43.3125 58.59375 39.234375 62.25 \nQ 35.15625 65.921875 28.609375 65.921875 \nQ 23.96875 65.921875 18.8125 64.3125 \nQ 13.671875 62.703125 7.8125 59.421875 \nL 7.8125 69.390625 \nQ 13.765625 71.78125 18.9375 73 \nQ 24.125 74.21875 28.421875 74.21875 \nQ 39.75 74.21875 46.484375 68.546875 \nQ 53.21875 62.890625 53.21875 53.421875 \nQ 53.21875 48.921875 51.53125 44.890625 \nQ 49.859375 40.875 45.40625 35.40625 \nQ 44.1875 33.984375 37.640625 27.21875 \nQ 31.109375 20.453125 19.1875 8.296875 \nz\n\" id=\"DejaVuSans-50\"/>\n       </defs>\n       <use xlink:href=\"#DejaVuSans-49\"/>\n       <use x=\"63.623047\" xlink:href=\"#DejaVuSans-46\"/>\n       <use x=\"95.410156\" xlink:href=\"#DejaVuSans-50\"/>\n      </g>\n     </g>\n    </g>\n    <g id=\"xtick_6\">\n     <g id=\"line2d_6\">\n      <path clip-path=\"url(#p5c3be01192)\" d=\"M 334.878139 224.64 \nL 334.878139 7.2 \n\" style=\"fill:none;stroke:#ffffff;stroke-linecap:round;\"/>\n     </g>\n     <g id=\"text_6\">\n      <!-- 1.4 -->\n      <g style=\"fill:#262626;\" transform=\"translate(326.13142 242.498281)scale(0.11 -0.11)\">\n       <use xlink:href=\"#DejaVuSans-49\"/>\n       <use x=\"63.623047\" xlink:href=\"#DejaVuSans-46\"/>\n       <use x=\"95.410156\" xlink:href=\"#DejaVuSans-52\"/>\n      </g>\n     </g>\n    </g>\n    <g id=\"xtick_7\">\n     <g id=\"line2d_7\">\n      <path clip-path=\"url(#p5c3be01192)\" d=\"M 385.605412 224.64 \nL 385.605412 7.2 \n\" style=\"fill:none;stroke:#ffffff;stroke-linecap:round;\"/>\n     </g>\n     <g id=\"text_7\">\n      <!-- 1.6 -->\n      <g style=\"fill:#262626;\" transform=\"translate(376.858693 242.498281)scale(0.11 -0.11)\">\n       <use xlink:href=\"#DejaVuSans-49\"/>\n       <use x=\"63.623047\" xlink:href=\"#DejaVuSans-46\"/>\n       <use x=\"95.410156\" xlink:href=\"#DejaVuSans-54\"/>\n      </g>\n     </g>\n    </g>\n    <g id=\"text_8\">\n     <!-- Bond length (Å) -->\n     <g style=\"fill:#262626;\" transform=\"translate(186.299219 259.925312)scale(0.12 -0.12)\">\n      <defs>\n       <path d=\"M 19.671875 34.8125 \nL 19.671875 8.109375 \nL 35.5 8.109375 \nQ 43.453125 8.109375 47.28125 11.40625 \nQ 51.125 14.703125 51.125 21.484375 \nQ 51.125 28.328125 47.28125 31.5625 \nQ 43.453125 34.8125 35.5 34.8125 \nz\nM 19.671875 64.796875 \nL 19.671875 42.828125 \nL 34.28125 42.828125 \nQ 41.5 42.828125 45.03125 45.53125 \nQ 48.578125 48.25 48.578125 53.8125 \nQ 48.578125 59.328125 45.03125 62.0625 \nQ 41.5 64.796875 34.28125 64.796875 \nz\nM 9.8125 72.90625 \nL 35.015625 72.90625 \nQ 46.296875 72.90625 52.390625 68.21875 \nQ 58.5 63.53125 58.5 54.890625 \nQ 58.5 48.1875 55.375 44.234375 \nQ 52.25 40.28125 46.1875 39.3125 \nQ 53.46875 37.75 57.5 32.78125 \nQ 61.53125 27.828125 61.53125 20.40625 \nQ 61.53125 10.640625 54.890625 5.3125 \nQ 48.25 0 35.984375 0 \nL 9.8125 0 \nz\n\" id=\"DejaVuSans-66\"/>\n       <path d=\"M 30.609375 48.390625 \nQ 23.390625 48.390625 19.1875 42.75 \nQ 14.984375 37.109375 14.984375 27.296875 \nQ 14.984375 17.484375 19.15625 11.84375 \nQ 23.34375 6.203125 30.609375 6.203125 \nQ 37.796875 6.203125 41.984375 11.859375 \nQ 46.1875 17.53125 46.1875 27.296875 \nQ 46.1875 37.015625 41.984375 42.703125 \nQ 37.796875 48.390625 30.609375 48.390625 \nz\nM 30.609375 56 \nQ 42.328125 56 49.015625 48.375 \nQ 55.71875 40.765625 55.71875 27.296875 \nQ 55.71875 13.875 49.015625 6.21875 \nQ 42.328125 -1.421875 30.609375 -1.421875 \nQ 18.84375 -1.421875 12.171875 6.21875 \nQ 5.515625 13.875 5.515625 27.296875 \nQ 5.515625 40.765625 12.171875 48.375 \nQ 18.84375 56 30.609375 56 \nz\n\" id=\"DejaVuSans-111\"/>\n       <path d=\"M 54.890625 33.015625 \nL 54.890625 0 \nL 45.90625 0 \nL 45.90625 32.71875 \nQ 45.90625 40.484375 42.875 44.328125 \nQ 39.84375 48.1875 33.796875 48.1875 \nQ 26.515625 48.1875 22.3125 43.546875 \nQ 18.109375 38.921875 18.109375 30.90625 \nL 18.109375 0 \nL 9.078125 0 \nL 9.078125 54.6875 \nL 18.109375 54.6875 \nL 18.109375 46.1875 \nQ 21.34375 51.125 25.703125 53.5625 \nQ 30.078125 56 35.796875 56 \nQ 45.21875 56 50.046875 50.171875 \nQ 54.890625 44.34375 54.890625 33.015625 \nz\n\" id=\"DejaVuSans-110\"/>\n       <path d=\"M 45.40625 46.390625 \nL 45.40625 75.984375 \nL 54.390625 75.984375 \nL 54.390625 0 \nL 45.40625 0 \nL 45.40625 8.203125 \nQ 42.578125 3.328125 38.25 0.953125 \nQ 33.9375 -1.421875 27.875 -1.421875 \nQ 17.96875 -1.421875 11.734375 6.484375 \nQ 5.515625 14.40625 5.515625 27.296875 \nQ 5.515625 40.1875 11.734375 48.09375 \nQ 17.96875 56 27.875 56 \nQ 33.9375 56 38.25 53.625 \nQ 42.578125 51.265625 45.40625 46.390625 \nz\nM 14.796875 27.296875 \nQ 14.796875 17.390625 18.875 11.75 \nQ 22.953125 6.109375 30.078125 6.109375 \nQ 37.203125 6.109375 41.296875 11.75 \nQ 45.40625 17.390625 45.40625 27.296875 \nQ 45.40625 37.203125 41.296875 42.84375 \nQ 37.203125 48.484375 30.078125 48.484375 \nQ 22.953125 48.484375 18.875 42.84375 \nQ 14.796875 37.203125 14.796875 27.296875 \nz\n\" id=\"DejaVuSans-100\"/>\n       <path id=\"DejaVuSans-32\"/>\n       <path d=\"M 9.421875 75.984375 \nL 18.40625 75.984375 \nL 18.40625 0 \nL 9.421875 0 \nz\n\" id=\"DejaVuSans-108\"/>\n       <path d=\"M 56.203125 29.59375 \nL 56.203125 25.203125 \nL 14.890625 25.203125 \nQ 15.484375 15.921875 20.484375 11.0625 \nQ 25.484375 6.203125 34.421875 6.203125 \nQ 39.59375 6.203125 44.453125 7.46875 \nQ 49.3125 8.734375 54.109375 11.28125 \nL 54.109375 2.78125 \nQ 49.265625 0.734375 44.1875 -0.34375 \nQ 39.109375 -1.421875 33.890625 -1.421875 \nQ 20.796875 -1.421875 13.15625 6.1875 \nQ 5.515625 13.8125 5.515625 26.8125 \nQ 5.515625 40.234375 12.765625 48.109375 \nQ 20.015625 56 32.328125 56 \nQ 43.359375 56 49.78125 48.890625 \nQ 56.203125 41.796875 56.203125 29.59375 \nz\nM 47.21875 32.234375 \nQ 47.125 39.59375 43.09375 43.984375 \nQ 39.0625 48.390625 32.421875 48.390625 \nQ 24.90625 48.390625 20.390625 44.140625 \nQ 15.875 39.890625 15.1875 32.171875 \nz\n\" id=\"DejaVuSans-101\"/>\n       <path d=\"M 45.40625 27.984375 \nQ 45.40625 37.75 41.375 43.109375 \nQ 37.359375 48.484375 30.078125 48.484375 \nQ 22.859375 48.484375 18.828125 43.109375 \nQ 14.796875 37.75 14.796875 27.984375 \nQ 14.796875 18.265625 18.828125 12.890625 \nQ 22.859375 7.515625 30.078125 7.515625 \nQ 37.359375 7.515625 41.375 12.890625 \nQ 45.40625 18.265625 45.40625 27.984375 \nz\nM 54.390625 6.78125 \nQ 54.390625 -7.171875 48.1875 -13.984375 \nQ 42 -20.796875 29.203125 -20.796875 \nQ 24.46875 -20.796875 20.265625 -20.09375 \nQ 16.0625 -19.390625 12.109375 -17.921875 \nL 12.109375 -9.1875 \nQ 16.0625 -11.328125 19.921875 -12.34375 \nQ 23.78125 -13.375 27.78125 -13.375 \nQ 36.625 -13.375 41.015625 -8.765625 \nQ 45.40625 -4.15625 45.40625 5.171875 \nL 45.40625 9.625 \nQ 42.625 4.78125 38.28125 2.390625 \nQ 33.9375 0 27.875 0 \nQ 17.828125 0 11.671875 7.65625 \nQ 5.515625 15.328125 5.515625 27.984375 \nQ 5.515625 40.671875 11.671875 48.328125 \nQ 17.828125 56 27.875 56 \nQ 33.9375 56 38.28125 53.609375 \nQ 42.625 51.21875 45.40625 46.390625 \nL 45.40625 54.6875 \nL 54.390625 54.6875 \nz\n\" id=\"DejaVuSans-103\"/>\n       <path d=\"M 18.3125 70.21875 \nL 18.3125 54.6875 \nL 36.8125 54.6875 \nL 36.8125 47.703125 \nL 18.3125 47.703125 \nL 18.3125 18.015625 \nQ 18.3125 11.328125 20.140625 9.421875 \nQ 21.96875 7.515625 27.59375 7.515625 \nL 36.8125 7.515625 \nL 36.8125 0 \nL 27.59375 0 \nQ 17.1875 0 13.234375 3.875 \nQ 9.28125 7.765625 9.28125 18.015625 \nL 9.28125 47.703125 \nL 2.6875 47.703125 \nL 2.6875 54.6875 \nL 9.28125 54.6875 \nL 9.28125 70.21875 \nz\n\" id=\"DejaVuSans-116\"/>\n       <path d=\"M 54.890625 33.015625 \nL 54.890625 0 \nL 45.90625 0 \nL 45.90625 32.71875 \nQ 45.90625 40.484375 42.875 44.328125 \nQ 39.84375 48.1875 33.796875 48.1875 \nQ 26.515625 48.1875 22.3125 43.546875 \nQ 18.109375 38.921875 18.109375 30.90625 \nL 18.109375 0 \nL 9.078125 0 \nL 9.078125 75.984375 \nL 18.109375 75.984375 \nL 18.109375 46.1875 \nQ 21.34375 51.125 25.703125 53.5625 \nQ 30.078125 56 35.796875 56 \nQ 45.21875 56 50.046875 50.171875 \nQ 54.890625 44.34375 54.890625 33.015625 \nz\n\" id=\"DejaVuSans-104\"/>\n       <path d=\"M 31 75.875 \nQ 24.46875 64.65625 21.28125 53.65625 \nQ 18.109375 42.671875 18.109375 31.390625 \nQ 18.109375 20.125 21.3125 9.0625 \nQ 24.515625 -2 31 -13.1875 \nL 23.1875 -13.1875 \nQ 15.875 -1.703125 12.234375 9.375 \nQ 8.59375 20.453125 8.59375 31.390625 \nQ 8.59375 42.28125 12.203125 53.3125 \nQ 15.828125 64.359375 23.1875 75.875 \nz\n\" id=\"DejaVuSans-40\"/>\n       <path d=\"M 41.609375 79.390625 \nQ 41.609375 82.46875 39.421875 84.640625 \nQ 37.25 86.8125 34.1875 86.8125 \nQ 31.0625 86.8125 28.9375 84.6875 \nQ 26.8125 82.5625 26.8125 79.390625 \nQ 26.8125 76.3125 28.953125 74.15625 \nQ 31.109375 72.015625 34.1875 72.015625 \nQ 37.25 72.015625 39.421875 74.15625 \nQ 41.609375 76.3125 41.609375 79.390625 \nz\nM 34.1875 63.1875 \nL 20.90625 26.90625 \nL 47.515625 26.90625 \nz\nM 26.8125 68.21875 \nQ 23.828125 70.21875 22.3125 73.015625 \nQ 20.796875 75.828125 20.796875 79.390625 \nQ 20.796875 85.015625 24.671875 88.921875 \nQ 28.5625 92.828125 34.1875 92.828125 \nQ 39.75 92.828125 43.671875 88.890625 \nQ 47.609375 84.96875 47.609375 79.390625 \nQ 47.609375 75.984375 46.0625 73.09375 \nQ 44.53125 70.21875 41.609375 68.21875 \nL 67.578125 0 \nL 57.328125 0 \nL 50.6875 18.703125 \nL 17.828125 18.703125 \nL 11.1875 0 \nL 0.78125 0 \nz\n\" id=\"DejaVuSans-197\"/>\n       <path d=\"M 8.015625 75.875 \nL 15.828125 75.875 \nQ 23.140625 64.359375 26.78125 53.3125 \nQ 30.421875 42.28125 30.421875 31.390625 \nQ 30.421875 20.453125 26.78125 9.375 \nQ 23.140625 -1.703125 15.828125 -13.1875 \nL 8.015625 -13.1875 \nQ 14.5 -2 17.703125 9.0625 \nQ 20.90625 20.125 20.90625 31.390625 \nQ 20.90625 42.671875 17.703125 53.65625 \nQ 14.5 64.65625 8.015625 75.875 \nz\n\" id=\"DejaVuSans-41\"/>\n      </defs>\n      <use xlink:href=\"#DejaVuSans-66\"/>\n      <use x=\"68.603516\" xlink:href=\"#DejaVuSans-111\"/>\n      <use x=\"129.785156\" xlink:href=\"#DejaVuSans-110\"/>\n      <use x=\"193.164062\" xlink:href=\"#DejaVuSans-100\"/>\n      <use x=\"256.640625\" xlink:href=\"#DejaVuSans-32\"/>\n      <use x=\"288.427734\" xlink:href=\"#DejaVuSans-108\"/>\n      <use x=\"316.210938\" xlink:href=\"#DejaVuSans-101\"/>\n      <use x=\"377.734375\" xlink:href=\"#DejaVuSans-110\"/>\n      <use x=\"441.113281\" xlink:href=\"#DejaVuSans-103\"/>\n      <use x=\"504.589844\" xlink:href=\"#DejaVuSans-116\"/>\n      <use x=\"543.798828\" xlink:href=\"#DejaVuSans-104\"/>\n      <use x=\"607.177734\" xlink:href=\"#DejaVuSans-32\"/>\n      <use x=\"638.964844\" xlink:href=\"#DejaVuSans-40\"/>\n      <use x=\"677.978516\" xlink:href=\"#DejaVuSans-197\"/>\n      <use x=\"746.386719\" xlink:href=\"#DejaVuSans-41\"/>\n     </g>\n    </g>\n   </g>\n   <g id=\"matplotlib.axis_2\">\n    <g id=\"ytick_1\">\n     <g id=\"line2d_8\">\n      <path clip-path=\"url(#p5c3be01192)\" d=\"M 66.023594 203.191079 \nL 400.823594 203.191079 \n\" style=\"fill:none;stroke:#ffffff;stroke-linecap:round;\"/>\n     </g>\n     <g id=\"text_9\">\n      <!-- −1.15 -->\n      <g style=\"fill:#262626;\" transform=\"translate(22.81375 207.370219)scale(0.11 -0.11)\">\n       <defs>\n        <path d=\"M 10.59375 35.5 \nL 73.1875 35.5 \nL 73.1875 27.203125 \nL 10.59375 27.203125 \nz\n\" id=\"DejaVuSans-8722\"/>\n        <path d=\"M 10.796875 72.90625 \nL 49.515625 72.90625 \nL 49.515625 64.59375 \nL 19.828125 64.59375 \nL 19.828125 46.734375 \nQ 21.96875 47.46875 24.109375 47.828125 \nQ 26.265625 48.1875 28.421875 48.1875 \nQ 40.625 48.1875 47.75 41.5 \nQ 54.890625 34.8125 54.890625 23.390625 \nQ 54.890625 11.625 47.5625 5.09375 \nQ 40.234375 -1.421875 26.90625 -1.421875 \nQ 22.3125 -1.421875 17.546875 -0.640625 \nQ 12.796875 0.140625 7.71875 1.703125 \nL 7.71875 11.625 \nQ 12.109375 9.234375 16.796875 8.0625 \nQ 21.484375 6.890625 26.703125 6.890625 \nQ 35.15625 6.890625 40.078125 11.328125 \nQ 45.015625 15.765625 45.015625 23.390625 \nQ 45.015625 31 40.078125 35.4375 \nQ 35.15625 39.890625 26.703125 39.890625 \nQ 22.75 39.890625 18.8125 39.015625 \nQ 14.890625 38.140625 10.796875 36.28125 \nz\n\" id=\"DejaVuSans-53\"/>\n       </defs>\n       <use xlink:href=\"#DejaVuSans-8722\"/>\n       <use x=\"83.789062\" xlink:href=\"#DejaVuSans-49\"/>\n       <use x=\"147.412109\" xlink:href=\"#DejaVuSans-46\"/>\n       <use x=\"179.199219\" xlink:href=\"#DejaVuSans-49\"/>\n       <use x=\"242.822266\" xlink:href=\"#DejaVuSans-53\"/>\n      </g>\n     </g>\n    </g>\n    <g id=\"ytick_2\">\n     <g id=\"line2d_9\">\n      <path clip-path=\"url(#p5c3be01192)\" d=\"M 66.023594 163.736508 \nL 400.823594 163.736508 \n\" style=\"fill:none;stroke:#ffffff;stroke-linecap:round;\"/>\n     </g>\n     <g id=\"text_10\">\n      <!-- −1.10 -->\n      <g style=\"fill:#262626;\" transform=\"translate(22.81375 167.915649)scale(0.11 -0.11)\">\n       <use xlink:href=\"#DejaVuSans-8722\"/>\n       <use x=\"83.789062\" xlink:href=\"#DejaVuSans-49\"/>\n       <use x=\"147.412109\" xlink:href=\"#DejaVuSans-46\"/>\n       <use x=\"179.199219\" xlink:href=\"#DejaVuSans-49\"/>\n       <use x=\"242.822266\" xlink:href=\"#DejaVuSans-48\"/>\n      </g>\n     </g>\n    </g>\n    <g id=\"ytick_3\">\n     <g id=\"line2d_10\">\n      <path clip-path=\"url(#p5c3be01192)\" d=\"M 66.023594 124.281938 \nL 400.823594 124.281938 \n\" style=\"fill:none;stroke:#ffffff;stroke-linecap:round;\"/>\n     </g>\n     <g id=\"text_11\">\n      <!-- −1.05 -->\n      <g style=\"fill:#262626;\" transform=\"translate(22.81375 128.461078)scale(0.11 -0.11)\">\n       <use xlink:href=\"#DejaVuSans-8722\"/>\n       <use x=\"83.789062\" xlink:href=\"#DejaVuSans-49\"/>\n       <use x=\"147.412109\" xlink:href=\"#DejaVuSans-46\"/>\n       <use x=\"179.199219\" xlink:href=\"#DejaVuSans-48\"/>\n       <use x=\"242.822266\" xlink:href=\"#DejaVuSans-53\"/>\n      </g>\n     </g>\n    </g>\n    <g id=\"ytick_4\">\n     <g id=\"line2d_11\">\n      <path clip-path=\"url(#p5c3be01192)\" d=\"M 66.023594 84.827367 \nL 400.823594 84.827367 \n\" style=\"fill:none;stroke:#ffffff;stroke-linecap:round;\"/>\n     </g>\n     <g id=\"text_12\">\n      <!-- −1.00 -->\n      <g style=\"fill:#262626;\" transform=\"translate(22.81375 89.006508)scale(0.11 -0.11)\">\n       <use xlink:href=\"#DejaVuSans-8722\"/>\n       <use x=\"83.789062\" xlink:href=\"#DejaVuSans-49\"/>\n       <use x=\"147.412109\" xlink:href=\"#DejaVuSans-46\"/>\n       <use x=\"179.199219\" xlink:href=\"#DejaVuSans-48\"/>\n       <use x=\"242.822266\" xlink:href=\"#DejaVuSans-48\"/>\n      </g>\n     </g>\n    </g>\n    <g id=\"ytick_5\">\n     <g id=\"line2d_12\">\n      <path clip-path=\"url(#p5c3be01192)\" d=\"M 66.023594 45.372797 \nL 400.823594 45.372797 \n\" style=\"fill:none;stroke:#ffffff;stroke-linecap:round;\"/>\n     </g>\n     <g id=\"text_13\">\n      <!-- −0.95 -->\n      <g style=\"fill:#262626;\" transform=\"translate(22.81375 49.551937)scale(0.11 -0.11)\">\n       <defs>\n        <path d=\"M 10.984375 1.515625 \nL 10.984375 10.5 \nQ 14.703125 8.734375 18.5 7.8125 \nQ 22.3125 6.890625 25.984375 6.890625 \nQ 35.75 6.890625 40.890625 13.453125 \nQ 46.046875 20.015625 46.78125 33.40625 \nQ 43.953125 29.203125 39.59375 26.953125 \nQ 35.25 24.703125 29.984375 24.703125 \nQ 19.046875 24.703125 12.671875 31.3125 \nQ 6.296875 37.9375 6.296875 49.421875 \nQ 6.296875 60.640625 12.9375 67.421875 \nQ 19.578125 74.21875 30.609375 74.21875 \nQ 43.265625 74.21875 49.921875 64.515625 \nQ 56.59375 54.828125 56.59375 36.375 \nQ 56.59375 19.140625 48.40625 8.859375 \nQ 40.234375 -1.421875 26.421875 -1.421875 \nQ 22.703125 -1.421875 18.890625 -0.6875 \nQ 15.09375 0.046875 10.984375 1.515625 \nz\nM 30.609375 32.421875 \nQ 37.25 32.421875 41.125 36.953125 \nQ 45.015625 41.5 45.015625 49.421875 \nQ 45.015625 57.28125 41.125 61.84375 \nQ 37.25 66.40625 30.609375 66.40625 \nQ 23.96875 66.40625 20.09375 61.84375 \nQ 16.21875 57.28125 16.21875 49.421875 \nQ 16.21875 41.5 20.09375 36.953125 \nQ 23.96875 32.421875 30.609375 32.421875 \nz\n\" id=\"DejaVuSans-57\"/>\n       </defs>\n       <use xlink:href=\"#DejaVuSans-8722\"/>\n       <use x=\"83.789062\" xlink:href=\"#DejaVuSans-48\"/>\n       <use x=\"147.412109\" xlink:href=\"#DejaVuSans-46\"/>\n       <use x=\"179.199219\" xlink:href=\"#DejaVuSans-57\"/>\n       <use x=\"242.822266\" xlink:href=\"#DejaVuSans-53\"/>\n      </g>\n     </g>\n    </g>\n    <g id=\"text_14\">\n     <!-- Energy (Ha) -->\n     <g style=\"fill:#262626;\" transform=\"translate(16.318125 151.705312)rotate(-90)scale(0.12 -0.12)\">\n      <defs>\n       <path d=\"M 9.8125 72.90625 \nL 55.90625 72.90625 \nL 55.90625 64.59375 \nL 19.671875 64.59375 \nL 19.671875 43.015625 \nL 54.390625 43.015625 \nL 54.390625 34.71875 \nL 19.671875 34.71875 \nL 19.671875 8.296875 \nL 56.78125 8.296875 \nL 56.78125 0 \nL 9.8125 0 \nz\n\" id=\"DejaVuSans-69\"/>\n       <path d=\"M 41.109375 46.296875 \nQ 39.59375 47.171875 37.8125 47.578125 \nQ 36.03125 48 33.890625 48 \nQ 26.265625 48 22.1875 43.046875 \nQ 18.109375 38.09375 18.109375 28.8125 \nL 18.109375 0 \nL 9.078125 0 \nL 9.078125 54.6875 \nL 18.109375 54.6875 \nL 18.109375 46.1875 \nQ 20.953125 51.171875 25.484375 53.578125 \nQ 30.03125 56 36.53125 56 \nQ 37.453125 56 38.578125 55.875 \nQ 39.703125 55.765625 41.0625 55.515625 \nz\n\" id=\"DejaVuSans-114\"/>\n       <path d=\"M 32.171875 -5.078125 \nQ 28.375 -14.84375 24.75 -17.8125 \nQ 21.140625 -20.796875 15.09375 -20.796875 \nL 7.90625 -20.796875 \nL 7.90625 -13.28125 \nL 13.1875 -13.28125 \nQ 16.890625 -13.28125 18.9375 -11.515625 \nQ 21 -9.765625 23.484375 -3.21875 \nL 25.09375 0.875 \nL 2.984375 54.6875 \nL 12.5 54.6875 \nL 29.59375 11.921875 \nL 46.6875 54.6875 \nL 56.203125 54.6875 \nz\n\" id=\"DejaVuSans-121\"/>\n       <path d=\"M 9.8125 72.90625 \nL 19.671875 72.90625 \nL 19.671875 43.015625 \nL 55.515625 43.015625 \nL 55.515625 72.90625 \nL 65.375 72.90625 \nL 65.375 0 \nL 55.515625 0 \nL 55.515625 34.71875 \nL 19.671875 34.71875 \nL 19.671875 0 \nL 9.8125 0 \nz\n\" id=\"DejaVuSans-72\"/>\n       <path d=\"M 34.28125 27.484375 \nQ 23.390625 27.484375 19.1875 25 \nQ 14.984375 22.515625 14.984375 16.5 \nQ 14.984375 11.71875 18.140625 8.90625 \nQ 21.296875 6.109375 26.703125 6.109375 \nQ 34.1875 6.109375 38.703125 11.40625 \nQ 43.21875 16.703125 43.21875 25.484375 \nL 43.21875 27.484375 \nz\nM 52.203125 31.203125 \nL 52.203125 0 \nL 43.21875 0 \nL 43.21875 8.296875 \nQ 40.140625 3.328125 35.546875 0.953125 \nQ 30.953125 -1.421875 24.3125 -1.421875 \nQ 15.921875 -1.421875 10.953125 3.296875 \nQ 6 8.015625 6 15.921875 \nQ 6 25.140625 12.171875 29.828125 \nQ 18.359375 34.515625 30.609375 34.515625 \nL 43.21875 34.515625 \nL 43.21875 35.40625 \nQ 43.21875 41.609375 39.140625 45 \nQ 35.0625 48.390625 27.6875 48.390625 \nQ 23 48.390625 18.546875 47.265625 \nQ 14.109375 46.140625 10.015625 43.890625 \nL 10.015625 52.203125 \nQ 14.9375 54.109375 19.578125 55.046875 \nQ 24.21875 56 28.609375 56 \nQ 40.484375 56 46.34375 49.84375 \nQ 52.203125 43.703125 52.203125 31.203125 \nz\n\" id=\"DejaVuSans-97\"/>\n      </defs>\n      <use xlink:href=\"#DejaVuSans-69\"/>\n      <use x=\"63.183594\" xlink:href=\"#DejaVuSans-110\"/>\n      <use x=\"126.5625\" xlink:href=\"#DejaVuSans-101\"/>\n      <use x=\"188.085938\" xlink:href=\"#DejaVuSans-114\"/>\n      <use x=\"227.449219\" xlink:href=\"#DejaVuSans-103\"/>\n      <use x=\"290.925781\" xlink:href=\"#DejaVuSans-121\"/>\n      <use x=\"350.105469\" xlink:href=\"#DejaVuSans-32\"/>\n      <use x=\"381.892578\" xlink:href=\"#DejaVuSans-40\"/>\n      <use x=\"420.90625\" xlink:href=\"#DejaVuSans-72\"/>\n      <use x=\"496.101562\" xlink:href=\"#DejaVuSans-97\"/>\n      <use x=\"557.380859\" xlink:href=\"#DejaVuSans-41\"/>\n     </g>\n    </g>\n   </g>\n   <g id=\"line2d_13\">\n    <path clip-path=\"url(#p5c3be01192)\" d=\"M 81.241776 18.486261 \nL 106.605412 133.838047 \nL 131.969048 208.066357 \nL 157.332685 214.756364 \nL 182.696321 178.257822 \nL 208.059957 178.005697 \nL 233.423594 169.39178 \nL 258.78723 152.150256 \nL 284.150866 145.147529 \nL 309.514503 120.930222 \nL 334.878139 105.370266 \nL 360.241776 85.435977 \nL 385.605412 67.655642 \n\" style=\"fill:none;stroke:#4c72b0;stroke-linecap:round;stroke-width:1.5;\"/>\n    <defs>\n     <path d=\"M 0 3 \nC 0.795609 3 1.55874 2.683901 2.12132 2.12132 \nC 2.683901 1.55874 3 0.795609 3 0 \nC 3 -0.795609 2.683901 -1.55874 2.12132 -2.12132 \nC 1.55874 -2.683901 0.795609 -3 0 -3 \nC -0.795609 -3 -1.55874 -2.683901 -2.12132 -2.12132 \nC -2.683901 -1.55874 -3 -0.795609 -3 0 \nC -3 0.795609 -2.683901 1.55874 -2.12132 2.12132 \nC -1.55874 2.683901 -0.795609 3 0 3 \nz\n\" id=\"m4d540086a8\" style=\"stroke:#4c72b0;\"/>\n    </defs>\n    <g clip-path=\"url(#p5c3be01192)\">\n     <use style=\"fill:#4c72b0;stroke:#4c72b0;\" x=\"81.241776\" xlink:href=\"#m4d540086a8\" y=\"18.486261\"/>\n     <use style=\"fill:#4c72b0;stroke:#4c72b0;\" x=\"106.605412\" xlink:href=\"#m4d540086a8\" y=\"133.838047\"/>\n     <use style=\"fill:#4c72b0;stroke:#4c72b0;\" x=\"131.969048\" xlink:href=\"#m4d540086a8\" y=\"208.066357\"/>\n     <use style=\"fill:#4c72b0;stroke:#4c72b0;\" x=\"157.332685\" xlink:href=\"#m4d540086a8\" y=\"214.756364\"/>\n     <use style=\"fill:#4c72b0;stroke:#4c72b0;\" x=\"182.696321\" xlink:href=\"#m4d540086a8\" y=\"178.257822\"/>\n     <use style=\"fill:#4c72b0;stroke:#4c72b0;\" x=\"208.059957\" xlink:href=\"#m4d540086a8\" y=\"178.005697\"/>\n     <use style=\"fill:#4c72b0;stroke:#4c72b0;\" x=\"233.423594\" xlink:href=\"#m4d540086a8\" y=\"169.39178\"/>\n     <use style=\"fill:#4c72b0;stroke:#4c72b0;\" x=\"258.78723\" xlink:href=\"#m4d540086a8\" y=\"152.150256\"/>\n     <use style=\"fill:#4c72b0;stroke:#4c72b0;\" x=\"284.150866\" xlink:href=\"#m4d540086a8\" y=\"145.147529\"/>\n     <use style=\"fill:#4c72b0;stroke:#4c72b0;\" x=\"309.514503\" xlink:href=\"#m4d540086a8\" y=\"120.930222\"/>\n     <use style=\"fill:#4c72b0;stroke:#4c72b0;\" x=\"334.878139\" xlink:href=\"#m4d540086a8\" y=\"105.370266\"/>\n     <use style=\"fill:#4c72b0;stroke:#4c72b0;\" x=\"360.241776\" xlink:href=\"#m4d540086a8\" y=\"85.435977\"/>\n     <use style=\"fill:#4c72b0;stroke:#4c72b0;\" x=\"385.605412\" xlink:href=\"#m4d540086a8\" y=\"67.655642\"/>\n    </g>\n   </g>\n   <g id=\"line2d_14\">\n    <path clip-path=\"url(#p5c3be01192)\" d=\"M 81.241776 17.083636 \nL 106.605412 128.353487 \nL 131.969048 176.587656 \nL 157.332685 192.293295 \nL 182.696321 190.682139 \nL 208.059957 179.960449 \nL 233.423594 164.644224 \nL 258.78723 147.31784 \nL 284.150866 129.601003 \nL 309.514503 112.592548 \nL 334.878139 97.03323 \nL 360.241776 83.367038 \nL 385.605412 71.785839 \n\" style=\"fill:none;stroke:#dd8452;stroke-linecap:round;stroke-width:1.5;\"/>\n    <defs>\n     <path d=\"M 0 3 \nC 0.795609 3 1.55874 2.683901 2.12132 2.12132 \nC 2.683901 1.55874 3 0.795609 3 0 \nC 3 -0.795609 2.683901 -1.55874 2.12132 -2.12132 \nC 1.55874 -2.683901 0.795609 -3 0 -3 \nC -0.795609 -3 -1.55874 -2.683901 -2.12132 -2.12132 \nC -2.683901 -1.55874 -3 -0.795609 -3 0 \nC -3 0.795609 -2.683901 1.55874 -2.12132 2.12132 \nC -1.55874 2.683901 -0.795609 3 0 3 \nz\n\" id=\"m238d3d0b27\" style=\"stroke:#dd8452;\"/>\n    </defs>\n    <g clip-path=\"url(#p5c3be01192)\">\n     <use style=\"fill:#dd8452;stroke:#dd8452;\" x=\"81.241776\" xlink:href=\"#m238d3d0b27\" y=\"17.083636\"/>\n     <use style=\"fill:#dd8452;stroke:#dd8452;\" x=\"106.605412\" xlink:href=\"#m238d3d0b27\" y=\"128.353487\"/>\n     <use style=\"fill:#dd8452;stroke:#dd8452;\" x=\"131.969048\" xlink:href=\"#m238d3d0b27\" y=\"176.587656\"/>\n     <use style=\"fill:#dd8452;stroke:#dd8452;\" x=\"157.332685\" xlink:href=\"#m238d3d0b27\" y=\"192.293295\"/>\n     <use style=\"fill:#dd8452;stroke:#dd8452;\" x=\"182.696321\" xlink:href=\"#m238d3d0b27\" y=\"190.682139\"/>\n     <use style=\"fill:#dd8452;stroke:#dd8452;\" x=\"208.059957\" xlink:href=\"#m238d3d0b27\" y=\"179.960449\"/>\n     <use style=\"fill:#dd8452;stroke:#dd8452;\" x=\"233.423594\" xlink:href=\"#m238d3d0b27\" y=\"164.644224\"/>\n     <use style=\"fill:#dd8452;stroke:#dd8452;\" x=\"258.78723\" xlink:href=\"#m238d3d0b27\" y=\"147.31784\"/>\n     <use style=\"fill:#dd8452;stroke:#dd8452;\" x=\"284.150866\" xlink:href=\"#m238d3d0b27\" y=\"129.601003\"/>\n     <use style=\"fill:#dd8452;stroke:#dd8452;\" x=\"309.514503\" xlink:href=\"#m238d3d0b27\" y=\"112.592548\"/>\n     <use style=\"fill:#dd8452;stroke:#dd8452;\" x=\"334.878139\" xlink:href=\"#m238d3d0b27\" y=\"97.03323\"/>\n     <use style=\"fill:#dd8452;stroke:#dd8452;\" x=\"360.241776\" xlink:href=\"#m238d3d0b27\" y=\"83.367038\"/>\n     <use style=\"fill:#dd8452;stroke:#dd8452;\" x=\"385.605412\" xlink:href=\"#m238d3d0b27\" y=\"71.785839\"/>\n    </g>\n   </g>\n   <g id=\"patch_3\">\n    <path d=\"M 66.023594 224.64 \nL 66.023594 7.2 \n\" style=\"fill:none;stroke:#ffffff;stroke-linecap:square;stroke-linejoin:miter;stroke-width:1.25;\"/>\n   </g>\n   <g id=\"patch_4\">\n    <path d=\"M 400.823594 224.64 \nL 400.823594 7.2 \n\" style=\"fill:none;stroke:#ffffff;stroke-linecap:square;stroke-linejoin:miter;stroke-width:1.25;\"/>\n   </g>\n   <g id=\"patch_5\">\n    <path d=\"M 66.023594 224.64 \nL 400.823594 224.64 \n\" style=\"fill:none;stroke:#ffffff;stroke-linecap:square;stroke-linejoin:miter;stroke-width:1.25;\"/>\n   </g>\n   <g id=\"patch_6\">\n    <path d=\"M 66.023594 7.2 \nL 400.823594 7.2 \n\" style=\"fill:none;stroke:#ffffff;stroke-linecap:square;stroke-linejoin:miter;stroke-width:1.25;\"/>\n   </g>\n  </g>\n </g>\n <defs>\n  <clipPath id=\"p5c3be01192\">\n   <rect height=\"217.44\" width=\"334.8\" x=\"66.023594\" y=\"7.2\"/>\n  </clipPath>\n </defs>\n</svg>\n",
      "image/png": "[encoded data removed]"
     },
     "metadata": {}
    }
   ],
   "source": [
    "import matplotlib as mpl\n",
    "import seaborn as sns\n",
    "import pylab as pl\n",
    "%matplotlib inline\n",
    "sns.set_theme(style=\"darkgrid\")\n",
    "\n",
    "pl.plot(bond_lengths, [en for _, en in energy], \"o-\")\n",
    "pl.plot(bond_lengths, calculated_energy, \"o-\")\n",
    "\n",
    "pl.xlabel(\"Bond length (Å)\")\n",
    "pl.ylabel(\"Energy (Ha)\")"
   ]
  },
  {
   "cell_type": "code",
   "execution_count": null,
   "metadata": {},
   "outputs": [],
   "source": []
  }
 ]
}